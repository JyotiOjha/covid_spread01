{
 "cells": [
  {
   "cell_type": "code",
   "execution_count": 1,
   "id": "b73d5695",
   "metadata": {},
   "outputs": [
    {
     "ename": "ModuleNotFoundError",
     "evalue": "No module named 'simple_facerec'",
     "output_type": "error",
     "traceback": [
      "\u001b[1;31m---------------------------------------------------------------------------\u001b[0m",
      "\u001b[1;31mModuleNotFoundError\u001b[0m                       Traceback (most recent call last)",
      "\u001b[1;32m<ipython-input-1-88416104e2f6>\u001b[0m in \u001b[0;36m<module>\u001b[1;34m\u001b[0m\n\u001b[0;32m     11\u001b[0m \u001b[1;32mfrom\u001b[0m \u001b[0msklearn\u001b[0m\u001b[1;33m.\u001b[0m\u001b[0mmetrics\u001b[0m \u001b[1;32mimport\u001b[0m \u001b[0mclassification_report\u001b[0m\u001b[1;33m,\u001b[0m\u001b[0mconfusion_matrix\u001b[0m\u001b[1;33m\u001b[0m\u001b[1;33m\u001b[0m\u001b[0m\n\u001b[0;32m     12\u001b[0m \u001b[1;32mfrom\u001b[0m \u001b[0mjoblib\u001b[0m \u001b[1;32mimport\u001b[0m \u001b[0mdump\u001b[0m\u001b[1;33m,\u001b[0m\u001b[0mload\u001b[0m\u001b[1;33m\u001b[0m\u001b[1;33m\u001b[0m\u001b[0m\n\u001b[1;32m---> 13\u001b[1;33m \u001b[1;32mfrom\u001b[0m \u001b[0msimple_facerec\u001b[0m \u001b[1;32mimport\u001b[0m \u001b[0mSimpleFacerec\u001b[0m\u001b[1;33m\u001b[0m\u001b[1;33m\u001b[0m\u001b[0m\n\u001b[0m",
      "\u001b[1;31mModuleNotFoundError\u001b[0m: No module named 'simple_facerec'"
     ]
    }
   ],
   "source": [
    "import cv2\n",
    "import matplotlib.pyplot as plt\n",
    "import numpy as np\n",
    "import imutils\n",
    "import pickle\n",
    "from sklearn.svm import SVC\n",
    "from sklearn.metrics import accuracy_score\n",
    "from sklearn.model_selection import train_test_split\n",
    "from sklearn.linear_model import LogisticRegression\n",
    "from sklearn.ensemble import RandomForestClassifier\n",
    "from sklearn.metrics import classification_report,confusion_matrix\n",
    "from joblib import dump,load\n",
    "from simple_facerec import SimpleFacerec"
   ]
  },
  {
   "cell_type": "code",
   "execution_count": null,
   "id": "aec7f879",
   "metadata": {},
   "outputs": [],
   "source": [
    "face_cascade=cv2.CascadeClassifier(cv2.data.haarcascades + 'haarcascade_frontalface_default.xml')\n",
    "eye_cascade=cv2.CascadeClassifier(cv2.data.haarcascades+'haarcascade_eye.xml')"
   ]
  },
  {
   "cell_type": "code",
   "execution_count": 4,
   "id": "afd12160",
   "metadata": {},
   "outputs": [],
   "source": [
    "TRAIN=np.load('train.npy')\n",
    "TEST=np.load('test.npy')\n"
   ]
  },
  {
   "cell_type": "code",
   "execution_count": 5,
   "id": "c29043fe",
   "metadata": {},
   "outputs": [],
   "source": [
    "x_train,x_test,y_train,y_test=train_test_split(TRAIN,TEST,test_size=0.30)"
   ]
  },
  {
   "cell_type": "raw",
   "id": "2a9fc825",
   "metadata": {},
   "source": [
    "print(classification_report(y_test,y_pred))"
   ]
  },
  {
   "cell_type": "code",
   "execution_count": 6,
   "id": "a8742a86",
   "metadata": {},
   "outputs": [
    {
     "data": {
      "text/plain": [
       "0.9214876033057852"
      ]
     },
     "execution_count": 6,
     "metadata": {},
     "output_type": "execute_result"
    }
   ],
   "source": [
    "op=SVC()\n",
    "op.fit(x_train,y_train)\n",
    "y_pred=op.predict(x_test)\n",
    "accuracy_score(y_test,y_pred)"
   ]
  },
  {
   "cell_type": "code",
   "execution_count": 7,
   "id": "4ae10979",
   "metadata": {},
   "outputs": [
    {
     "name": "stdout",
     "output_type": "stream",
     "text": [
      "              precision    recall  f1-score   support\n",
      "\n",
      "         0.0       0.90      0.99      0.94       162\n",
      "         1.0       0.97      0.79      0.87        80\n",
      "\n",
      "    accuracy                           0.92       242\n",
      "   macro avg       0.94      0.89      0.91       242\n",
      "weighted avg       0.93      0.92      0.92       242\n",
      "\n"
     ]
    }
   ],
   "source": [
    "print(classification_report(y_test,y_pred))"
   ]
  },
  {
   "cell_type": "code",
   "execution_count": 8,
   "id": "e3609875",
   "metadata": {},
   "outputs": [],
   "source": [
    "model=op\n",
    "dump(op,'modell.joblib')\n",
    "model_joblib=load('modell.joblib')"
   ]
  },
  {
   "cell_type": "code",
   "execution_count": 9,
   "id": "d258e02d",
   "metadata": {},
   "outputs": [],
   "source": [
    "with open('model_pickle','wb') as f:\n",
    "    pickle.dump(op,f)\n",
    "with open('model_pickle','rb') as f:\n",
    "    model=pickle.load(f)"
   ]
  },
  {
   "cell_type": "code",
   "execution_count": 13,
   "id": "03148daa",
   "metadata": {},
   "outputs": [],
   "source": [
    "lol=1\n",
    "font=cv2.FONT_HERSHEY_COMPLEX\n",
    "d={1:'MASK',0:'No Mask'}\n",
    "output='example.avi'\n",
    "fps=30\n",
    "codec='MJPG'\n",
    "fourcc=cv2.VideoWriter_fourcc(*codec)\n",
    "writer=None\n",
    "(h,w)=None,None\n",
    "zeros=None\n"
   ]
  },
  {
   "cell_type": "code",
   "execution_count": null,
   "id": "df5eb7ac",
   "metadata": {},
   "outputs": [],
   "source": [
    "sfr = SimpleFacerec()\n",
    "sfr.load_encoding_images(\"images/\")\n",
    "\n",
    "\n"
   ]
  },
  {
   "cell_type": "code",
   "execution_count": 14,
   "id": "0c432edb",
   "metadata": {},
   "outputs": [],
   "source": [
    "vs = cv2.VideoCapture(0)\n",
    "\n",
    "while True:\n",
    "    flag, img = vs.read()\n",
    "    if flag:\n",
    "        img = imutils.resize(img, width=1000)\n",
    "        img=cv2.flip(img,1)\n",
    "        gray=cv2.cvtColor(img,cv2.COLOR_BGR2GRAY)\n",
    "        faces = face_cascade.detectMultiScale(gray,scaleFactor=1.2,minNeighbors=5,minSize=(30, 30))\n",
    "        a,b=0,0\n",
    "        for x,y,w,h in faces:  \n",
    "            frame=cv2.rectangle(img,(x,y),(x+w,y+h),(255,255,255),4)\n",
    "            face=img[y:y+h,x:x+w,:]\n",
    "            face=cv2.resize(face,(100,100))\n",
    "            face=face.reshape(1,-1)\n",
    "            pred=model.predict(face)[0]\n",
    "            n=int(pred)\n",
    "            if(n==1): b+=1\n",
    "            else: a+=1\n",
    "            m=d[n]\n",
    "            if n==0: cv2.putText(img,m,(x,y),font,1,(0,0,255),2)\n",
    "            if n==1: cv2.putText(img,m,(x,y),font,1,(0,255,0),2)\n",
    "        #print(a,b,len(faces))\n",
    "        (i,j)=img.shape[:2]\n",
    "        if writer is None:\n",
    "            writer=cv2.VideoWriter(output,fourcc,fps,(j,i),True)\n",
    "        cv2.rectangle(img,(0,0),(200,60),(255,255,255),-1)\n",
    "        cv2.putText(img,\"no of face detected: \" +str(len(faces)),(0,25),font,0.5,(255,0,0),1)\n",
    "        cv2.putText(img,\" Wearing MASK : \" +str(b),(0,40),font,0.5,(0,255,0),1)\n",
    "        cv2.putText(img,\"Not Wearing MASK: \" +str(a),(0,55),font,0.5,(0,0,255),1)\n",
    "        output=np.zeros((i,j,3),dtype=\"uint8\")\n",
    "        output[0:i,0:j]=img\n",
    "        writer.write(output)\n",
    "        ret, frame = cap.read()\n",
    "\n",
    "   \n",
    "        face_locations, face_names = sfr.detect_known_faces(frame)\n",
    "        for face_loc, name in zip(face_locations, face_names):\n",
    "            y1, x2, y2, x1 = face_loc[0], face_loc[1], face_loc[2], face_loc[3]\n",
    "\n",
    "            cv2.putText(frame, name,(x1, y1 - 10), cv2.FONT_HERSHEY_DUPLEX, 1, (0, 0, 200), 2)\n",
    "            cv2.rectangle(frame, (x1, y1), (x2, y2), (0, 0, 200), 4)\n",
    "\n",
    "        cv2.imshow(\"Frame\", frame)\n",
    "        cv2.imshow('hell0_world',output)\n",
    "        if cv2.waitKey(lol) & 0xFF==27: break\n",
    "        else: break\n",
    "cv2.destroyAllWindows()\n",
    "vs.release()\n",
    "writer.release()"
   ]
  },
  {
   "cell_type": "code",
   "execution_count": null,
   "id": "509b197e",
   "metadata": {},
   "outputs": [],
   "source": []
  }
 ],
 "metadata": {
  "kernelspec": {
   "display_name": "Python 3",
   "language": "python",
   "name": "python3"
  },
  "language_info": {
   "codemirror_mode": {
    "name": "ipython",
    "version": 3
   },
   "file_extension": ".py",
   "mimetype": "text/x-python",
   "name": "python",
   "nbconvert_exporter": "python",
   "pygments_lexer": "ipython3",
   "version": "3.8.8"
  }
 },
 "nbformat": 4,
 "nbformat_minor": 5
}
